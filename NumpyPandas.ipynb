{
  "nbformat": 4,
  "nbformat_minor": 0,
  "metadata": {
    "colab": {
      "provenance": [],
      "authorship_tag": "ABX9TyMjTV9BUAgpELFVdfFmTrGu",
      "include_colab_link": true
    },
    "kernelspec": {
      "name": "python3",
      "display_name": "Python 3"
    },
    "language_info": {
      "name": "python"
    }
  },
  "cells": [
    {
      "cell_type": "markdown",
      "metadata": {
        "id": "view-in-github",
        "colab_type": "text"
      },
      "source": [
        "<a href=\"https://colab.research.google.com/github/Basteen-A/CALCULATE-MEAN-MEDIAN-VARIANCE-AND-STANDARD-DEVIATION-Using-PANDAS/blob/main/NumpyPandas.ipynb\" target=\"_parent\"><img src=\"https://colab.research.google.com/assets/colab-badge.svg\" alt=\"Open In Colab\"/></a>"
      ]
    },
    {
      "cell_type": "markdown",
      "source": [
        "**NUMPY**"
      ],
      "metadata": {
        "id": "XAB3MntaiO0L"
      }
    },
    {
      "cell_type": "code",
      "execution_count": 1,
      "metadata": {
        "colab": {
          "base_uri": "https://localhost:8080/"
        },
        "id": "o5HjdOXlK4EJ",
        "outputId": "37e5f1c2-eb3d-4e26-c070-f7892f97822a"
      },
      "outputs": [
        {
          "output_type": "stream",
          "name": "stdout",
          "text": [
            "Mounted at /content/drive\n"
          ]
        }
      ],
      "source": [
        "from google.colab import drive\n",
        "drive.mount('/content/drive')"
      ]
    },
    {
      "cell_type": "markdown",
      "source": [
        "#(#)Converting Arrays to NumPy Arrays"
      ],
      "metadata": {
        "id": "U7WabJwiiyM9"
      }
    },
    {
      "cell_type": "code",
      "source": [
        "import numpy as np\n",
        "arr = [1,2,3]\n",
        "np.array(arr)\n",
        "\n",
        "nested_arr = [[1,2],[3,4],[5,6]]\n",
        "np.array(nested_arr)"
      ],
      "metadata": {
        "colab": {
          "base_uri": "https://localhost:8080/"
        },
        "id": "JMKR-mMMhOEx",
        "outputId": "3fedeba3-f4ab-4df2-bd5c-bcb0d5d753dc"
      },
      "execution_count": 2,
      "outputs": [
        {
          "output_type": "execute_result",
          "data": {
            "text/plain": [
              "array([[1, 2],\n",
              "       [3, 4],\n",
              "       [5, 6]])"
            ]
          },
          "metadata": {},
          "execution_count": 2
        }
      ]
    },
    {
      "cell_type": "markdown",
      "source": [
        "## NumPy Arrange Function: n-dimensional arrays\n"
      ],
      "metadata": {
        "id": "N8O-xmR6jBGr"
      }
    },
    {
      "cell_type": "code",
      "source": [
        "print(np.zeros((4,5)))\n",
        "print(np.ones((4,5)))"
      ],
      "metadata": {
        "colab": {
          "base_uri": "https://localhost:8080/"
        },
        "id": "1LUklBQQh65O",
        "outputId": "0902b9bd-fbdf-4e3b-bff1-b61db5f1a33c"
      },
      "execution_count": 4,
      "outputs": [
        {
          "output_type": "stream",
          "name": "stdout",
          "text": [
            "[[0. 0. 0. 0. 0.]\n",
            " [0. 0. 0. 0. 0.]\n",
            " [0. 0. 0. 0. 0.]\n",
            " [0. 0. 0. 0. 0.]]\n",
            "[[1. 1. 1. 1. 1.]\n",
            " [1. 1. 1. 1. 1.]\n",
            " [1. 1. 1. 1. 1.]\n",
            " [1. 1. 1. 1. 1.]]\n"
          ]
        }
      ]
    },
    {
      "cell_type": "markdown",
      "source": [
        "NumPy Linspace Function"
      ],
      "metadata": {
        "id": "3X8GecIkjHGk"
      }
    },
    {
      "cell_type": "code",
      "source": [
        "print(np.linspace(0,10,3))"
      ],
      "metadata": {
        "colab": {
          "base_uri": "https://localhost:8080/"
        },
        "id": "zhcIqvgxiFhJ",
        "outputId": "ead1bf3f-c691-480a-d050-6ada27760d28"
      },
      "execution_count": 5,
      "outputs": [
        {
          "output_type": "stream",
          "name": "stdout",
          "text": [
            "[ 0.  5. 10.]\n"
          ]
        }
      ]
    },
    {
      "cell_type": "markdown",
      "source": [
        "**# Random Number Generation:**"
      ],
      "metadata": {
        "id": "xT_D67sGjSK1"
      }
    },
    {
      "cell_type": "markdown",
      "source": [
        "Generate random numbers in a uniform distribution"
      ],
      "metadata": {
        "id": "Rny9jOafjdK6"
      }
    },
    {
      "cell_type": "code",
      "source": [
        "print(np.random.rand(10))\n",
        "print(np.random.rand(3,4))"
      ],
      "metadata": {
        "colab": {
          "base_uri": "https://localhost:8080/"
        },
        "id": "rEsqtuNUjRW6",
        "outputId": "bb16f34b-ffd2-468a-ffe3-5454123694b4"
      },
      "execution_count": 6,
      "outputs": [
        {
          "output_type": "stream",
          "name": "stdout",
          "text": [
            "[0.39347484 0.26071448 0.16178229 0.03987777 0.39127683 0.83547048\n",
            " 0.56037727 0.0079339  0.20660905 0.28588765]\n",
            "[[0.35925384 0.02774475 0.39822094 0.38287111]\n",
            " [0.27416496 0.81053202 0.09564286 0.08992558]\n",
            " [0.50351371 0.89749714 0.63925674 0.38705551]]\n"
          ]
        }
      ]
    },
    {
      "cell_type": "markdown",
      "source": [
        "*# Array Computations*"
      ],
      "metadata": {
        "id": "jrwKSF_Mjunj"
      }
    },
    {
      "cell_type": "code",
      "source": [
        "new_arr = np.arange(1,11)\n",
        "print(new_arr)\n",
        "#Addition\n",
        "print(new_arr + 5)\n",
        "#Subtraction\n",
        "print(new_arr - 5)\n",
        "#Array Addition\n",
        "print(new_arr + new_arr)\n",
        "#Array Division\n",
        "print(new_arr / new_arr)"
      ],
      "metadata": {
        "colab": {
          "base_uri": "https://localhost:8080/"
        },
        "id": "PT1m3Wj1j3Ml",
        "outputId": "cceea4f1-371f-4d27-f7bd-ca5e7ef09f1d"
      },
      "execution_count": 7,
      "outputs": [
        {
          "output_type": "stream",
          "name": "stdout",
          "text": [
            "[ 1  2  3  4  5  6  7  8  9 10]\n",
            "[ 6  7  8  9 10 11 12 13 14 15]\n",
            "[-4 -3 -2 -1  0  1  2  3  4  5]\n",
            "[ 2  4  6  8 10 12 14 16 18 20]\n",
            "[1. 1. 1. 1. 1. 1. 1. 1. 1. 1.]\n"
          ]
        }
      ]
    },
    {
      "cell_type": "markdown",
      "source": [
        "**PANDAS**"
      ],
      "metadata": {
        "id": "KhrC6hkukQK0"
      }
    },
    {
      "cell_type": "markdown",
      "source": [
        "*DataFrames*"
      ],
      "metadata": {
        "id": "Zdlwd3x5k1gC"
      }
    },
    {
      "cell_type": "code",
      "source": [
        "import pandas as pd\n",
        "data = {\n",
        "\"calories\": [420, 380, 390],\n",
        "\n",
        "\"duration\": [50, 40, 45]}\n",
        "#load data into a DataFrame object:\n",
        "\n",
        "df = pd.DataFrame(data)\n",
        "print(df)"
      ],
      "metadata": {
        "colab": {
          "base_uri": "https://localhost:8080/"
        },
        "id": "f3kr6h0SkYf2",
        "outputId": "c60c154e-4678-4357-ebe6-e1207a464183"
      },
      "execution_count": 10,
      "outputs": [
        {
          "output_type": "stream",
          "name": "stdout",
          "text": [
            "   calories  duration\n",
            "0       420        50\n",
            "1       380        40\n",
            "2       390        45\n"
          ]
        }
      ]
    },
    {
      "cell_type": "markdown",
      "source": [
        "**# Pandas Read CSV**"
      ],
      "metadata": {
        "id": "9bt6rIKZlEDm"
      }
    },
    {
      "cell_type": "code",
      "source": [
        "import pandas as pd\n",
        "\n",
        "df = pd.read_csv('/content/drive/MyDrive/22CAP05-MLL Datasets/1.PANDAS/data.csv')\n",
        "print(df)"
      ],
      "metadata": {
        "colab": {
          "base_uri": "https://localhost:8080/"
        },
        "id": "5QkDd4MDLbnj",
        "outputId": "e174d3d1-9072-4233-b9bb-04674f129aac"
      },
      "execution_count": 2,
      "outputs": [
        {
          "output_type": "stream",
          "name": "stdout",
          "text": [
            "     Duration  Pulse  Maxpulse  Calories\n",
            "0          60    110       130     409.1\n",
            "1          60    117       145     479.0\n",
            "2          60    103       135     340.0\n",
            "3          45    109       175     282.4\n",
            "4          45    117       148     406.0\n",
            "..        ...    ...       ...       ...\n",
            "164        60    105       140     290.8\n",
            "165        60    110       145     300.4\n",
            "166        60    115       145     310.2\n",
            "167        75    120       150     320.4\n",
            "168        75    125       150     330.4\n",
            "\n",
            "[169 rows x 4 columns]\n"
          ]
        }
      ]
    },
    {
      "cell_type": "markdown",
      "source": [
        "**# Pandas - Removing Duplicates**"
      ],
      "metadata": {
        "id": "yNyoxG99lL_a"
      }
    },
    {
      "cell_type": "code",
      "source": [
        "print(df.duplicated())"
      ],
      "metadata": {
        "colab": {
          "base_uri": "https://localhost:8080/"
        },
        "id": "MR-4rcO2LuQX",
        "outputId": "72a9535a-efe6-472e-b94a-20d43259321f"
      },
      "execution_count": 3,
      "outputs": [
        {
          "output_type": "stream",
          "name": "stdout",
          "text": [
            "0      False\n",
            "1      False\n",
            "2      False\n",
            "3      False\n",
            "4      False\n",
            "       ...  \n",
            "164    False\n",
            "165    False\n",
            "166    False\n",
            "167    False\n",
            "168    False\n",
            "Length: 169, dtype: bool\n"
          ]
        }
      ]
    },
    {
      "cell_type": "markdown",
      "source": [
        "**# Pandas - Data Correlations**"
      ],
      "metadata": {
        "id": "u2XMvS10lS-a"
      }
    },
    {
      "cell_type": "code",
      "source": [
        "print(df.corr())"
      ],
      "metadata": {
        "colab": {
          "base_uri": "https://localhost:8080/"
        },
        "id": "kbkSDb8yL1g6",
        "outputId": "3f4fe2f4-f228-4cdb-8e9a-8417ad7ec2a0"
      },
      "execution_count": 4,
      "outputs": [
        {
          "output_type": "stream",
          "name": "stdout",
          "text": [
            "          Duration     Pulse  Maxpulse  Calories\n",
            "Duration  1.000000 -0.155408  0.009403  0.922721\n",
            "Pulse    -0.155408  1.000000  0.786535  0.025120\n",
            "Maxpulse  0.009403  0.786535  1.000000  0.203814\n",
            "Calories  0.922721  0.025120  0.203814  1.000000\n"
          ]
        }
      ]
    },
    {
      "cell_type": "markdown",
      "source": [
        "**# Pandas - Plotting**"
      ],
      "metadata": {
        "id": "viIxwylulZpd"
      }
    },
    {
      "cell_type": "markdown",
      "source": [
        "*#Three lines to make our compiler able to draw:*"
      ],
      "metadata": {
        "id": "AbdwSU0Xlg8U"
      }
    },
    {
      "cell_type": "code",
      "source": [
        "import sys\n",
        "import matplotlib\n",
        "matplotlib.use('Agg')\n",
        "import pandas as pd\n",
        "import matplotlib.pyplot as plt"
      ],
      "metadata": {
        "id": "uTz7nnFnMH7d"
      },
      "execution_count": 11,
      "outputs": []
    },
    {
      "cell_type": "code",
      "source": [
        "df[\"Duration\"].plot(kind = 'hist')\n",
        "plt.show()\n",
        "plt.savefig('myplot.png')"
      ],
      "metadata": {
        "id": "Q8zYY198N9RJ"
      },
      "execution_count": 12,
      "outputs": []
    }
  ]
}