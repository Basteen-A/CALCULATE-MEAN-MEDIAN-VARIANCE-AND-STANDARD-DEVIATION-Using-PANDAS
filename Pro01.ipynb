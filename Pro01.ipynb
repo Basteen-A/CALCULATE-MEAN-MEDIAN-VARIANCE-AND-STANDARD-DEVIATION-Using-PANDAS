{
  "nbformat": 4,
  "nbformat_minor": 0,
  "metadata": {
    "colab": {
      "provenance": [],
      "authorship_tag": "ABX9TyPEpzU961aJNax2b8metxuc",
      "include_colab_link": true
    },
    "kernelspec": {
      "name": "python3",
      "display_name": "Python 3"
    },
    "language_info": {
      "name": "python"
    }
  },
  "cells": [
    {
      "cell_type": "markdown",
      "metadata": {
        "id": "view-in-github",
        "colab_type": "text"
      },
      "source": [
        "<a href=\"https://colab.research.google.com/github/Basteen-A/CALCULATE-MEAN-MEDIAN-VARIANCE-AND-STANDARD-DEVIATION-Using-PANDAS/blob/main/Pro01.ipynb\" target=\"_parent\"><img src=\"https://colab.research.google.com/assets/colab-badge.svg\" alt=\"Open In Colab\"/></a>"
      ]
    },
    {
      "cell_type": "code",
      "execution_count": 1,
      "metadata": {
        "colab": {
          "base_uri": "https://localhost:8080/"
        },
        "id": "o5HjdOXlK4EJ",
        "outputId": "37e5f1c2-eb3d-4e26-c070-f7892f97822a"
      },
      "outputs": [
        {
          "output_type": "stream",
          "name": "stdout",
          "text": [
            "Mounted at /content/drive\n"
          ]
        }
      ],
      "source": [
        "from google.colab import drive\n",
        "drive.mount('/content/drive')"
      ]
    },
    {
      "cell_type": "code",
      "source": [
        "import pandas as pd\n",
        "\n",
        "df = pd.read_csv('/content/drive/MyDrive/22CAP05-MLL Datasets/1.PANDAS/data.csv')\n",
        "print(df)"
      ],
      "metadata": {
        "colab": {
          "base_uri": "https://localhost:8080/"
        },
        "id": "5QkDd4MDLbnj",
        "outputId": "e174d3d1-9072-4233-b9bb-04674f129aac"
      },
      "execution_count": 2,
      "outputs": [
        {
          "output_type": "stream",
          "name": "stdout",
          "text": [
            "     Duration  Pulse  Maxpulse  Calories\n",
            "0          60    110       130     409.1\n",
            "1          60    117       145     479.0\n",
            "2          60    103       135     340.0\n",
            "3          45    109       175     282.4\n",
            "4          45    117       148     406.0\n",
            "..        ...    ...       ...       ...\n",
            "164        60    105       140     290.8\n",
            "165        60    110       145     300.4\n",
            "166        60    115       145     310.2\n",
            "167        75    120       150     320.4\n",
            "168        75    125       150     330.4\n",
            "\n",
            "[169 rows x 4 columns]\n"
          ]
        }
      ]
    },
    {
      "cell_type": "code",
      "source": [
        "print(df.duplicated())"
      ],
      "metadata": {
        "colab": {
          "base_uri": "https://localhost:8080/"
        },
        "id": "MR-4rcO2LuQX",
        "outputId": "72a9535a-efe6-472e-b94a-20d43259321f"
      },
      "execution_count": 3,
      "outputs": [
        {
          "output_type": "stream",
          "name": "stdout",
          "text": [
            "0      False\n",
            "1      False\n",
            "2      False\n",
            "3      False\n",
            "4      False\n",
            "       ...  \n",
            "164    False\n",
            "165    False\n",
            "166    False\n",
            "167    False\n",
            "168    False\n",
            "Length: 169, dtype: bool\n"
          ]
        }
      ]
    },
    {
      "cell_type": "code",
      "source": [
        "print(df.corr())"
      ],
      "metadata": {
        "colab": {
          "base_uri": "https://localhost:8080/"
        },
        "id": "kbkSDb8yL1g6",
        "outputId": "3f4fe2f4-f228-4cdb-8e9a-8417ad7ec2a0"
      },
      "execution_count": 4,
      "outputs": [
        {
          "output_type": "stream",
          "name": "stdout",
          "text": [
            "          Duration     Pulse  Maxpulse  Calories\n",
            "Duration  1.000000 -0.155408  0.009403  0.922721\n",
            "Pulse    -0.155408  1.000000  0.786535  0.025120\n",
            "Maxpulse  0.009403  0.786535  1.000000  0.203814\n",
            "Calories  0.922721  0.025120  0.203814  1.000000\n"
          ]
        }
      ]
    },
    {
      "cell_type": "code",
      "source": [
        "import sys\n",
        "import matplotlib\n",
        "matplotlib.use('Agg')\n",
        "import pandas as pd\n",
        "import matplotlib.pyplot as plt"
      ],
      "metadata": {
        "id": "uTz7nnFnMH7d"
      },
      "execution_count": 11,
      "outputs": []
    },
    {
      "cell_type": "code",
      "source": [
        "df[\"Duration\"].plot(kind = 'hist')\n",
        "plt.show()\n",
        "plt.savefig('myplot.png')"
      ],
      "metadata": {
        "id": "Q8zYY198N9RJ"
      },
      "execution_count": 12,
      "outputs": []
    },
    {
      "cell_type": "code",
      "source": [
        "import numpy as np"
      ],
      "metadata": {
        "id": "DsVxffE2OZ3q"
      },
      "execution_count": 13,
      "outputs": []
    },
    {
      "cell_type": "code",
      "source": [
        "data = [23, 56, 45, 67, 12, 56, 78, 67, 34, 89, 43, 56, 21, 67]\n",
        "\n",
        "df=pd.Series(data)\n",
        "print(df)"
      ],
      "metadata": {
        "colab": {
          "base_uri": "https://localhost:8080/"
        },
        "id": "vxMCwmvkOuwA",
        "outputId": "8585f724-b5ad-42d9-8e17-78126d6d2184"
      },
      "execution_count": 14,
      "outputs": [
        {
          "output_type": "stream",
          "name": "stdout",
          "text": [
            "0     23\n",
            "1     56\n",
            "2     45\n",
            "3     67\n",
            "4     12\n",
            "5     56\n",
            "6     78\n",
            "7     67\n",
            "8     34\n",
            "9     89\n",
            "10    43\n",
            "11    56\n",
            "12    21\n",
            "13    67\n",
            "dtype: int64\n"
          ]
        }
      ]
    },
    {
      "cell_type": "code",
      "source": [
        "mean = np.mean(data)\n",
        "median = np.median(data)\n",
        "mode = df.mode()\n",
        "variance = np.var(data)\n",
        "std_dev = np.std(data)"
      ],
      "metadata": {
        "id": "10nZfwihPASU"
      },
      "execution_count": 17,
      "outputs": []
    },
    {
      "cell_type": "code",
      "source": [
        "print(\"Mean:\", mean)\n",
        "print(\"Median:\", median)\n",
        "print(\"Mode:\\n\",mode)\n",
        "print(\"Variance:\", variance)\n",
        "print(\"Standard Deviation:\", std_dev)"
      ],
      "metadata": {
        "colab": {
          "base_uri": "https://localhost:8080/"
        },
        "id": "kF4TwlCTPRW-",
        "outputId": "b3290ade-a2e2-4252-e006-ab5d2bb671fa"
      },
      "execution_count": 18,
      "outputs": [
        {
          "output_type": "stream",
          "name": "stdout",
          "text": [
            "Mean: 51.0\n",
            "Median: 56.0\n",
            "Mode:\n",
            " 0    56\n",
            "1    67\n",
            "dtype: int64\n",
            "Variance: 472.14285714285717\n",
            "Standard Deviation: 21.72884850015889\n"
          ]
        }
      ]
    }
  ]
}