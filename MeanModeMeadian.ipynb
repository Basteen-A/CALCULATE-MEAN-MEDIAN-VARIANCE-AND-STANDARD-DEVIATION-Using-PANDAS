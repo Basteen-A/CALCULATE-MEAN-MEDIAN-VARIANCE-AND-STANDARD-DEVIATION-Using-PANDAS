{
  "nbformat": 4,
  "nbformat_minor": 0,
  "metadata": {
    "colab": {
      "provenance": [],
      "authorship_tag": "ABX9TyPINYy5qcxTvKegpzjLoaaa",
      "include_colab_link": true
    },
    "kernelspec": {
      "name": "python3",
      "display_name": "Python 3"
    },
    "language_info": {
      "name": "python"
    }
  },
  "cells": [
    {
      "cell_type": "markdown",
      "metadata": {
        "id": "view-in-github",
        "colab_type": "text"
      },
      "source": [
        "<a href=\"https://colab.research.google.com/github/Basteen-A/CALCULATE-MEAN-MEDIAN-VARIANCE-AND-STANDARD-DEVIATION-Using-PANDAS/blob/main/MeanModeMeadian.ipynb\" target=\"_parent\"><img src=\"https://colab.research.google.com/assets/colab-badge.svg\" alt=\"Open In Colab\"/></a>"
      ]
    },
    {
      "cell_type": "markdown",
      "source": [
        "**CALCULATE MEAN, MEDIAN, VARIANCE AND STANDARD DEVIATION**"
      ],
      "metadata": {
        "id": "0f8coNO6mncm"
      }
    },
    {
      "cell_type": "code",
      "source": [
        "import numpy as np"
      ],
      "metadata": {
        "id": "DsVxffE2OZ3q"
      },
      "execution_count": null,
      "outputs": []
    },
    {
      "cell_type": "markdown",
      "source": [
        "## #Sample Numerical Data"
      ],
      "metadata": {
        "id": "RloF5J_9mcue"
      }
    },
    {
      "cell_type": "code",
      "source": [
        "data = [23, 56, 45, 67, 12, 56, 78, 67, 34, 89, 43, 56, 21, 67]\n",
        "\n",
        "df=pd.Series(data)\n",
        "print(df)"
      ],
      "metadata": {
        "colab": {
          "base_uri": "https://localhost:8080/"
        },
        "id": "vxMCwmvkOuwA",
        "outputId": "8585f724-b5ad-42d9-8e17-78126d6d2184"
      },
      "execution_count": null,
      "outputs": [
        {
          "output_type": "stream",
          "name": "stdout",
          "text": [
            "0     23\n",
            "1     56\n",
            "2     45\n",
            "3     67\n",
            "4     12\n",
            "5     56\n",
            "6     78\n",
            "7     67\n",
            "8     34\n",
            "9     89\n",
            "10    43\n",
            "11    56\n",
            "12    21\n",
            "13    67\n",
            "dtype: int64\n"
          ]
        }
      ]
    },
    {
      "cell_type": "markdown",
      "source": [
        "## #Calculate mean median & variance,standard deviation"
      ],
      "metadata": {
        "id": "48Sr3aEUmxJx"
      }
    },
    {
      "cell_type": "code",
      "source": [
        "mean = np.mean(data)\n",
        "median = np.median(data)\n",
        "mode = df.mode()\n",
        "variance = np.var(data)\n",
        "std_dev = np.std(data)"
      ],
      "metadata": {
        "id": "10nZfwihPASU"
      },
      "execution_count": null,
      "outputs": []
    },
    {
      "cell_type": "markdown",
      "source": [
        "## #Print the calculated statistics"
      ],
      "metadata": {
        "id": "zs46gdWCnQR_"
      }
    },
    {
      "cell_type": "code",
      "source": [
        "print(\"Mean:\", mean)\n",
        "print(\"Median:\", median)\n",
        "print(\"Mode:\\n\",mode)\n",
        "print(\"Variance:\", variance)\n",
        "print(\"Standard Deviation:\", std_dev)"
      ],
      "metadata": {
        "colab": {
          "base_uri": "https://localhost:8080/"
        },
        "id": "kF4TwlCTPRW-",
        "outputId": "b3290ade-a2e2-4252-e006-ab5d2bb671fa"
      },
      "execution_count": null,
      "outputs": [
        {
          "output_type": "stream",
          "name": "stdout",
          "text": [
            "Mean: 51.0\n",
            "Median: 56.0\n",
            "Mode:\n",
            " 0    56\n",
            "1    67\n",
            "dtype: int64\n",
            "Variance: 472.14285714285717\n",
            "Standard Deviation: 21.72884850015889\n"
          ]
        }
      ]
    }
  ]
}